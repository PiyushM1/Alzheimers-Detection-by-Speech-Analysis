{
  "nbformat": 4,
  "nbformat_minor": 0,
  "metadata": {
    "colab": {
      "name": "log_reg_bi.ipynb",
      "provenance": [],
      "collapsed_sections": []
    },
    "kernelspec": {
      "name": "python3",
      "display_name": "Python 3"
    }
  },
  "cells": [
    {
      "cell_type": "code",
      "metadata": {
        "id": "qIfSUjVWKWsF"
      },
      "source": [
        "\r\n",
        "import pandas as pd\r\n",
        "import numpy as np\r\n",
        "import matplotlib.pyplot as plt\r\n",
        "from sklearn.model_selection import train_test_split\r\n",
        "from sklearn.preprocessing import StandardScaler\r\n",
        "from sklearn.linear_model import LogisticRegression\r\n",
        "from sklearn.model_selection import GridSearchCV\r\n",
        "\r\n",
        "\r\n",
        "\r\n",
        "df = pd.read_csv('train2.csv')\r\n",
        "df = df[df[\"Group\"] != \"MCI\"]\r\n",
        "df = df[df[\"Group\"] != \"Vascular\"]\r\n",
        "df = df[df[\"Group\"] != \"Memory\"]\r\n",
        "df = df[df[\"Group\"] != \"PossibleAD\"]\r\n",
        "\r\n",
        "\r\n",
        "x = df.drop(['Group'],axis=1)\r\n",
        "y = df.Group\r\n",
        "X_train, X_test, y_train, y_test = train_test_split(x, y, test_size=0.2, random_state=31)\r\n",
        "\r\n",
        "\r\n",
        "sc = StandardScaler()\r\n",
        "\r\n",
        "X_train = sc.fit_transform(X_train)\r\n",
        "\r\n",
        "X_test = sc.transform(X_test)\r\n",
        "\r\n",
        "\r\n",
        "\r\n",
        "\r\n",
        "lr = LogisticRegression(random_state = 0,max_iter=300,multi_class='ovr')\r\n",
        "\r\n",
        "\r\n",
        "\r\n",
        "\r\n",
        "\r\n",
        "parameters = {'C': np.linspace(2, 5, 5)}\r\n",
        "clf = GridSearchCV(lr, parameters, cv=4, scoring='f1_micro', n_jobs=-1)\r\n",
        "result = clf.fit(X_train, y_train.ravel())\r\n",
        "\r\n",
        "lr1 = LogisticRegression(C=result.best_params_[\"C\"], penalty = 'l2', max_iter = 1000)\r\n",
        "lr1.fit(X_train, y_train.ravel())\r\n",
        "\r\n",
        "print(result.best_params_)\r\n",
        "\r\n",
        "y_pred = lr1.predict(X_test)\r\n",
        "\r\n",
        "acc =  result.best_score_\r\n",
        "\r\n",
        "print(pd.crosstab(y_test, y_pred))\r\n",
        "\r\n",
        "from sklearn.metrics import plot_confusion_matrix\r\n",
        "\r\n",
        "fig, ax = plt.subplots(figsize=(8, 8))\r\n",
        "\r\n",
        "plot_confusion_matrix(clf, X_test, y_test, normalize = 'true', cmap=plt.cm.Blues, ax = ax)\r\n",
        "\r\n",
        "plt.show()\r\n",
        "\r\n",
        "print(acc)\r\n"
      ],
      "execution_count": null,
      "outputs": []
    }
  ]
}